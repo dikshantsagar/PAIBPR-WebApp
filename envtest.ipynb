{
 "cells": [
  {
   "cell_type": "code",
   "execution_count": 1,
   "metadata": {},
   "outputs": [],
   "source": [
    "import numpy as np"
   ]
  },
  {
   "cell_type": "code",
   "execution_count": 2,
   "metadata": {},
   "outputs": [],
   "source": [
    "from sklearn.metrics.pairwise import cosine_similarity"
   ]
  },
  {
   "cell_type": "code",
   "execution_count": 3,
   "metadata": {},
   "outputs": [],
   "source": [
    "import torch"
   ]
  },
  {
   "cell_type": "code",
   "execution_count": 4,
   "metadata": {},
   "outputs": [],
   "source": [
    "device = torch.device('cpu')\n",
    "visfeat =  torch.load('static/feat/visualfeatures',map_location = device)"
   ]
  },
  {
   "cell_type": "code",
   "execution_count": 5,
   "metadata": {},
   "outputs": [],
   "source": [
    "import cv2"
   ]
  },
  {
   "cell_type": "code",
   "execution_count": 6,
   "metadata": {},
   "outputs": [],
   "source": [
    "tmg = cv2.imread('static/uploads/uploadtop.png')\n",
    "tmg = cv2.resize(tmg,(100,100))"
   ]
  },
  {
   "cell_type": "code",
   "execution_count": 24,
   "metadata": {},
   "outputs": [],
   "source": []
  },
  {
   "cell_type": "code",
   "execution_count": 8,
   "metadata": {},
   "outputs": [],
   "source": [
    "vis = get_visual_represen(tmg,8,'static/models/final_model_2040.h5')"
   ]
  },
  {
   "cell_type": "code",
   "execution_count": 9,
   "metadata": {},
   "outputs": [
    {
     "output_type": "execute_result",
     "data": {
      "text/plain": "(2048,)"
     },
     "metadata": {},
     "execution_count": 9
    }
   ],
   "source": [
    "vis.shape"
   ]
  },
  {
   "cell_type": "code",
   "execution_count": 10,
   "metadata": {},
   "outputs": [],
   "source": [
    "visfeatarr = list(visfeat.values())"
   ]
  },
  {
   "cell_type": "code",
   "execution_count": 11,
   "metadata": {},
   "outputs": [
    {
     "output_type": "execute_result",
     "data": {
      "text/plain": "tensor([0.0000, 0.0000, 0.0000,  ..., 0.3930, 0.3310, 0.7085])"
     },
     "metadata": {},
     "execution_count": 11
    }
   ],
   "source": [
    "visfeatarr[0]"
   ]
  },
  {
   "cell_type": "code",
   "execution_count": 12,
   "metadata": {},
   "outputs": [],
   "source": [
    "visf = []\n",
    "for i in visfeatarr:\n",
    "    visf.append(i.numpy())"
   ]
  },
  {
   "cell_type": "code",
   "execution_count": 13,
   "metadata": {},
   "outputs": [],
   "source": [
    "visf = np.array(visf)"
   ]
  },
  {
   "cell_type": "code",
   "execution_count": 14,
   "metadata": {},
   "outputs": [
    {
     "output_type": "execute_result",
     "data": {
      "text/plain": "(173576, 2048)"
     },
     "metadata": {},
     "execution_count": 14
    }
   ],
   "source": [
    "visf.shape"
   ]
  },
  {
   "cell_type": "code",
   "execution_count": 15,
   "metadata": {},
   "outputs": [],
   "source": [
    "sim = cosine_similarity(vis.reshape(1,-1),visf)"
   ]
  },
  {
   "cell_type": "code",
   "execution_count": 16,
   "metadata": {},
   "outputs": [
    {
     "output_type": "execute_result",
     "data": {
      "text/plain": "(1, 173576)"
     },
     "metadata": {},
     "execution_count": 16
    }
   ],
   "source": [
    "sim.shape"
   ]
  },
  {
   "cell_type": "code",
   "execution_count": 17,
   "metadata": {},
   "outputs": [],
   "source": [
    "ind = np.argmax(sim)"
   ]
  },
  {
   "cell_type": "code",
   "execution_count": 18,
   "metadata": {},
   "outputs": [
    {
     "output_type": "execute_result",
     "data": {
      "text/plain": "'7345685'"
     },
     "metadata": {},
     "execution_count": 18
    }
   ],
   "source": [
    "list(visfeat.keys())[ind]"
   ]
  },
  {
   "cell_type": "code",
   "execution_count": 19,
   "metadata": {},
   "outputs": [],
   "source": [
    "import keras"
   ]
  },
  {
   "cell_type": "code",
   "execution_count": 20,
   "metadata": {},
   "outputs": [],
   "source": [
    "import tensorflow"
   ]
  },
  {
   "cell_type": "code",
   "execution_count": 21,
   "metadata": {},
   "outputs": [
    {
     "output_type": "execute_result",
     "data": {
      "text/plain": "'2.3.1'"
     },
     "metadata": {},
     "execution_count": 21
    }
   ],
   "source": [
    "keras.__version__"
   ]
  },
  {
   "cell_type": "code",
   "execution_count": 22,
   "metadata": {},
   "outputs": [
    {
     "output_type": "execute_result",
     "data": {
      "text/plain": "'2.2.0'"
     },
     "metadata": {},
     "execution_count": 22
    }
   ],
   "source": [
    "tensorflow.__version__"
   ]
  },
  {
   "cell_type": "code",
   "execution_count": 1,
   "metadata": {},
   "outputs": [
    {
     "output_type": "stream",
     "name": "stderr",
     "text": "Using TensorFlow backend.\n"
    }
   ],
   "source": [
    "from paibar.utils import  getopid"
   ]
  },
  {
   "cell_type": "code",
   "execution_count": 2,
   "metadata": {},
   "outputs": [
    {
     "output_type": "stream",
     "name": "stdout",
     "text": "-----getting similar top id------\n-------top id retrieved-------\n"
    },
    {
     "output_type": "execute_result",
     "data": {
      "text/plain": "'14340284'"
     },
     "metadata": {},
     "execution_count": 2
    }
   ],
   "source": [
    "getopid()"
   ]
  },
  {
   "cell_type": "code",
   "execution_count": 4,
   "metadata": {},
   "outputs": [],
   "source": [
    "with open('static/feat/bottom.txt') as f:\n",
    "    ids = f.read().split(',')\n",
    "ids = [int(i) for i in ids]"
   ]
  },
  {
   "cell_type": "code",
   "execution_count": 6,
   "metadata": {},
   "outputs": [
    {
     "output_type": "execute_result",
     "data": {
      "text/plain": "882"
     },
     "metadata": {},
     "execution_count": 6
    }
   ],
   "source": [
    "len(ids)"
   ]
  },
  {
   "cell_type": "code",
   "execution_count": 9,
   "metadata": {},
   "outputs": [
    {
     "output_type": "execute_result",
     "data": {
      "text/plain": "1"
     },
     "metadata": {},
     "execution_count": 9
    }
   ],
   "source": [
    "import numpy as np\n",
    "min(np.array([1,2,3,4,5]))"
   ]
  },
  {
   "cell_type": "code",
   "execution_count": 13,
   "metadata": {},
   "outputs": [],
   "source": [
    "from tensorflow.keras.models import load_model\n",
    "import torch\n",
    "device = torch.device('cpu')\n",
    "visfeat =  torch.load('static/feat/visualfeatures',map_location = device)\n",
    "model = load_model('static/models/final_model_2040.h5')\n"
   ]
  },
  {
   "cell_type": "code",
   "execution_count": 14,
   "metadata": {},
   "outputs": [],
   "source": [
    "from tensorflow.keras.backend import variable\n",
    "from tensorflow.keras import backend as K"
   ]
  },
  {
   "cell_type": "code",
   "execution_count": 16,
   "metadata": {},
   "outputs": [],
   "source": [
    "get_output = K.function([model.layers[-1].input], [model.layers[-1].output])\n",
    "a=visfeat['20174730'][:2040]"
   ]
  },
  {
   "cell_type": "code",
   "execution_count": 17,
   "metadata": {},
   "outputs": [],
   "source": [
    "b=get_output(a.reshape(1,2040))[0][0]"
   ]
  },
  {
   "cell_type": "code",
   "execution_count": 21,
   "metadata": {},
   "outputs": [],
   "source": [
    "import collections"
   ]
  },
  {
   "cell_type": "code",
   "execution_count": 22,
   "metadata": {},
   "outputs": [],
   "source": [
    "s=collections.Counter(b)"
   ]
  },
  {
   "cell_type": "code",
   "execution_count": 25,
   "metadata": {},
   "outputs": [
    {
     "output_type": "execute_result",
     "data": {
      "text/plain": "array([945, 332, 990,   3, 779,   6, 253, 656, 447, 443, 442, 865, 122,\n       905, 238,  55,  96, 908, 369, 966, 594, 479, 976, 548, 326, 600,\n       459, 555,  46, 436, 343,  98, 404, 748, 504, 711, 581, 951, 383,\n       573, 896, 342, 357, 339, 456, 552, 111, 709,  95,  94, 503, 394,\n       232, 263, 502, 164,   5,  86, 771, 980, 165, 737,   9, 177, 850,\n        64, 341, 271, 550,  97, 622, 553, 448, 213, 762, 288, 925, 895,\n       486, 732, 432, 340, 549, 579, 102, 217, 611, 559, 169, 101, 580,\n       685, 256, 381, 361, 614, 481, 355, 362, 547, 279, 979, 289, 280,\n       491, 731, 963, 451, 412, 857,  67, 467, 338, 269, 386, 514,  63,\n       170, 968, 610, 270, 647, 551, 387, 107, 105, 684,  78, 240, 693,\n        71,   2,   4, 500, 377, 273, 564, 175, 672, 615, 367, 863, 621,\n       914, 214, 281, 272, 644, 255,  35, 613, 371, 168, 435, 301, 137,\n       228, 155, 125, 274, 366,  57, 575, 735, 539, 160, 981, 173, 855,\n       856, 472, 832, 791, 588, 938, 501,  74, 385, 323,  43, 106, 376,\n       286, 163, 318, 143,  40, 813, 295, 120, 529, 778, 161,  56, 623,\n       738, 352,   7, 595,  77, 627, 297,  85, 868, 982,  75, 833, 329,\n       464, 744, 838, 246, 523, 511, 586, 536, 522, 260, 117, 484, 308,\n       643, 753, 942, 350,   8, 590, 262, 959,  54, 485, 846, 388, 158,\n       894, 743, 382, 135, 617, 403,  41, 829, 962, 572, 516, 978, 375,\n        92, 428, 997, 347, 746, 592, 679, 776, 379, 370, 363, 718, 989,\n       145, 558, 605, 794, 458, 314, 378,  88, 537, 740, 736, 312, 197,\n       752, 919, 726, 247, 176,  39, 187, 259, 958, 612,  16, 965, 971,\n       652, 864, 172,  65, 686, 554, 267, 185,  68,  42, 373, 402,  13,\n       278, 134, 171,  12, 928, 782, 651, 153, 540, 399, 525, 566, 507,\n       182, 455, 750, 216, 661, 374, 923, 418, 346, 957,  76, 995, 406,\n        31, 445, 430,  10,  79, 345, 407, 398, 144, 425, 215, 926, 220,\n        37, 307, 545, 906, 667, 663, 311, 384, 733, 331, 917, 742, 637,\n       463, 783, 589, 225, 683, 265, 446, 333, 912, 714, 964,  52, 775,\n       755, 285, 642, 147, 401, 317, 803, 195, 636, 434, 129, 879, 518,\n       252, 417, 758, 932, 885,  28, 702, 734, 494, 626, 585, 364, 506,\n       304, 949, 544, 556, 630,  62,  47, 701, 668, 344, 351, 475, 875,\n       816, 395, 598, 790, 219, 180,  27, 934, 268, 221, 420, 704, 789,\n       166, 294, 972, 497, 360, 907, 991, 707, 493, 242, 918, 666, 468,\n       150, 496, 824, 124, 680, 527, 996, 927, 505, 524, 815, 724, 859,\n       509, 411, 597, 490, 633,  23, 635, 245, 772, 427, 587, 535,  59,\n       108,  15, 639, 774, 659, 795, 223, 961, 244,  53, 861, 492, 930,\n       578, 477, 400, 140, 756, 634, 154,  73, 157, 233, 886, 462, 591,\n       826, 130, 264, 955, 499, 675, 924, 939,  89, 992, 909, 712,  66,\n       110, 874, 136, 739, 199, 510, 625, 533, 769, 808, 903,  17,  14,\n       977, 414, 104, 266,  69, 298, 873, 372, 118, 967,  99, 250, 354,\n       567, 440, 474, 322, 396,  91, 796,  49, 159, 650, 729, 508, 277,\n       793, 916, 854, 526, 882, 348, 193, 103,  29, 678, 780, 152, 915,\n       416, 454, 682, 809, 645,  34, 847, 898, 473, 632, 131, 368, 224,\n       715, 519, 397, 127, 646, 100, 528, 777, 719, 810, 759, 888,  44,\n       541, 200, 985, 845, 235, 867, 773, 870, 986, 517, 290,  93, 754,\n       641, 320, 452, 123, 673,  51, 792, 334, 849, 328,  26, 910, 296,\n       190, 222, 662, 419, 431, 696,  72, 405, 167, 521, 947, 766, 258,\n       607, 557, 819, 208,  32, 901, 198, 638, 602, 891, 814, 937, 439,\n       392, 694, 520, 764, 807, 229, 999, 261, 844, 315, 618, 812, 747,\n       765, 380, 178, 697, 842, 251, 422,  80, 576, 723, 619, 677, 194,\n       561,   1, 515, 303, 316, 805, 305, 695, 408, 275, 319, 583, 426,\n       676, 313, 119, 741, 952, 860, 687, 970, 421, 866, 231, 787, 218,\n       530,  90,  58, 488, 761, 660, 114,  30, 893, 424, 929, 390, 209,\n       330,  11, 946, 582, 584, 138, 126, 609, 801, 890, 359, 681, 629,\n       624, 804, 920, 690, 904, 156, 203, 562, 179, 444, 532, 749, 569,\n       542, 284, 302, 291, 950,  70,  19, 560, 871, 327, 887, 115, 466,\n       994, 799, 349, 670, 669, 429,  83, 487, 563, 437, 763, 725, 706,\n        33, 954, 234, 109, 703, 393, 248, 943, 149, 649, 241, 336, 128,\n        84, 243, 713, 655, 728, 257,  20, 300,  48, 450, 767, 391,  60,\n        24, 478, 806, 606, 276, 834, 299, 571, 476, 671, 116, 603, 460,\n       931, 781, 840, 698, 974, 538, 902, 423, 699, 708, 469, 192, 858,\n       631,  21, 640, 889, 174, 768, 132,  87, 936, 941,  22, 441,  38,\n       227, 802, 461, 831, 570, 853, 433, 184, 628, 658, 151, 700,  45,\n       922, 415, 139, 543, 830, 206, 205, 727, 207, 325, 798, 604, 283,\n       482, 465, 188, 337, 608, 324, 828, 181, 948, 770, 620, 757, 722,\n       913, 876, 883, 237, 872, 534, 745, 293, 593, 843, 869,  82, 721,\n       969, 664, 998, 358, 453, 471,   0, 944,  18, 146, 449, 657, 933,\n       987, 786, 648, 899, 900, 691, 565, 113, 988, 410, 862, 674, 811,\n       653, 389, 512, 353, 973, 282, 438, 321, 498, 457, 940, 599, 306,\n       817, 365, 201, 133, 202, 784, 483, 212, 821, 211, 148, 851, 852,\n       835, 710, 480,  36, 839, 413, 797, 249,  25, 720, 546, 921, 335,\n       911, 574, 196, 788, 705, 827, 654, 162, 191, 230, 356, 531, 692,\n       689, 823, 409, 236, 665, 489, 993, 822, 960, 751,  50, 880, 800,\n       226, 309, 716, 818, 254, 183, 688, 141, 825, 848, 310,  81, 953,\n       877, 820, 292, 785, 884, 470, 841, 760, 112, 186, 975, 730, 956,\n       601, 287, 892, 568, 983, 121, 189, 239, 577, 881, 984, 935, 878,\n       495, 836, 616,  61, 513, 142, 596, 717, 210, 897, 204, 837])"
     },
     "metadata": {},
     "execution_count": 25
    }
   ],
   "source": [
    "np.argsort(b)"
   ]
  },
  {
   "cell_type": "code",
   "execution_count": 26,
   "metadata": {},
   "outputs": [
    {
     "output_type": "execute_result",
     "data": {
      "text/plain": "0.1397883"
     },
     "metadata": {},
     "execution_count": 26
    }
   ],
   "source": [
    "b[837]"
   ]
  },
  {
   "cell_type": "code",
   "execution_count": 29,
   "metadata": {},
   "outputs": [
    {
     "output_type": "execute_result",
     "data": {
      "text/plain": "0.13817438"
     },
     "metadata": {},
     "execution_count": 29
    }
   ],
   "source": [
    "b[204]"
   ]
  },
  {
   "cell_type": "code",
   "execution_count": 28,
   "metadata": {},
   "outputs": [
    {
     "output_type": "execute_result",
     "data": {
      "text/plain": "0.1397883"
     },
     "metadata": {},
     "execution_count": 28
    }
   ],
   "source": [
    "max(b)"
   ]
  },
  {
   "cell_type": "code",
   "execution_count": 2,
   "metadata": {},
   "outputs": [],
   "source": [
    "import glob"
   ]
  },
  {
   "cell_type": "code",
   "execution_count": 7,
   "metadata": {},
   "outputs": [],
   "source": [
    "x=glob.glob('static/testusers/104853/*/*')"
   ]
  },
  {
   "cell_type": "code",
   "execution_count": 8,
   "metadata": {},
   "outputs": [
    {
     "output_type": "execute_result",
     "data": {
      "text/plain": "['static/testusers/104853/44/5289529_m.jpg',\n 'static/testusers/104853/44/5289527_m.jpg',\n 'static/testusers/104853/30/4955186_m.jpg',\n 'static/testusers/104853/30/5079134_m.jpg',\n 'static/testusers/104853/99/6127661_m.jpg',\n 'static/testusers/104853/99/7686120_m.jpg']"
     },
     "metadata": {},
     "execution_count": 8
    }
   ],
   "source": [
    "x"
   ]
  },
  {
   "cell_type": "code",
   "execution_count": 14,
   "metadata": {
    "tags": []
   },
   "outputs": [
    {
     "output_type": "stream",
     "name": "stdout",
     "text": "0\n1\n2\n3\n4\n5\n"
    }
   ],
   "source": [
    "for i in range(len(x)-2):\n",
    "    print(i)"
   ]
  },
  {
   "cell_type": "code",
   "execution_count": 22,
   "metadata": {},
   "outputs": [],
   "source": [
    "import pickle\n",
    "with open('static/feat/dat.pkl','rb') as f:\n",
    "            t,_ = pickle.load(f)"
   ]
  },
  {
   "cell_type": "code",
   "execution_count": 26,
   "metadata": {},
   "outputs": [
    {
     "output_type": "execute_result",
     "data": {
      "text/plain": "True"
     },
     "metadata": {},
     "execution_count": 26
    }
   ],
   "source": [
    "9982535 in t"
   ]
  },
  {
   "cell_type": "code",
   "execution_count": null,
   "metadata": {},
   "outputs": [],
   "source": []
  }
 ],
 "metadata": {
  "language_info": {
   "codemirror_mode": {
    "name": "ipython",
    "version": 3
   },
   "file_extension": ".py",
   "mimetype": "text/x-python",
   "name": "python",
   "nbconvert_exporter": "python",
   "pygments_lexer": "ipython3",
   "version": "3.7.6-final"
  },
  "orig_nbformat": 2,
  "kernelspec": {
   "name": "python3",
   "display_name": "Python 3"
  }
 },
 "nbformat": 4,
 "nbformat_minor": 2
}